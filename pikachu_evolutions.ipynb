{
 "cells": [
  {
   "cell_type": "code",
   "execution_count": 1,
   "id": "ahead-opportunity",
   "metadata": {},
   "outputs": [],
   "source": [
    "import json\n",
    "import requests\n",
    "import pandas as pd"
   ]
  },
  {
   "cell_type": "code",
   "execution_count": 47,
   "id": "academic-holmes",
   "metadata": {},
   "outputs": [],
   "source": [
    "url = requests.get('https://pokeapi.co/api/v2/evolution-chain/10')\n",
    "data = url.json()"
   ]
  },
  {
   "cell_type": "code",
   "execution_count": 193,
   "id": "advance-victim",
   "metadata": {},
   "outputs": [],
   "source": [
    "evol1 = (data[\"chain\"]['species'])"
   ]
  },
  {
   "cell_type": "code",
   "execution_count": 194,
   "id": "homeless-sierra",
   "metadata": {},
   "outputs": [
    {
     "name": "stdout",
     "output_type": "stream",
     "text": [
      "{'name': 'pichu', 'url': 'https://pokeapi.co/api/v2/pokemon-species/172/'}\n"
     ]
    }
   ],
   "source": [
    "print (evol1)"
   ]
  },
  {
   "cell_type": "code",
   "execution_count": 195,
   "id": "approved-malaysia",
   "metadata": {},
   "outputs": [],
   "source": [
    "evol2 = (data[\"chain\"][\"evolves_to\"][0]['species'])"
   ]
  },
  {
   "cell_type": "code",
   "execution_count": 196,
   "id": "hidden-looking",
   "metadata": {},
   "outputs": [
    {
     "name": "stdout",
     "output_type": "stream",
     "text": [
      "{'name': 'pikachu', 'url': 'https://pokeapi.co/api/v2/pokemon-species/25/'}\n"
     ]
    }
   ],
   "source": [
    "print (evol2)"
   ]
  },
  {
   "cell_type": "code",
   "execution_count": 214,
   "id": "flush-blake",
   "metadata": {},
   "outputs": [],
   "source": [
    "evol3 = (data[\"chain\"][\"evolves_to\"][0][\"evolves_to\"][0][\"species\"])"
   ]
  },
  {
   "cell_type": "code",
   "execution_count": 215,
   "id": "cosmetic-nature",
   "metadata": {},
   "outputs": [
    {
     "name": "stdout",
     "output_type": "stream",
     "text": [
      "{'name': 'raichu', 'url': 'https://pokeapi.co/api/v2/pokemon-species/26/'}\n"
     ]
    }
   ],
   "source": [
    "print (evol3)"
   ]
  }
 ],
 "metadata": {
  "kernelspec": {
   "display_name": "Python 3",
   "language": "python",
   "name": "python3"
  },
  "language_info": {
   "codemirror_mode": {
    "name": "ipython",
    "version": 3
   },
   "file_extension": ".py",
   "mimetype": "text/x-python",
   "name": "python",
   "nbconvert_exporter": "python",
   "pygments_lexer": "ipython3",
   "version": "3.8.5"
  }
 },
 "nbformat": 4,
 "nbformat_minor": 5
}
